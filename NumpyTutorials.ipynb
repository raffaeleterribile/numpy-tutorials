{
 "cells": [
  {
   "cell_type": "markdown",
   "metadata": {},
   "source": [
    "# The Basics\n",
    "\n",
    "- ndarray.ndim  \n",
    "the number of axes (dimensions) of the array. In the Python world, the\n",
    "number of dimensions is referred to as rank.\n",
    "- ndarray.shape  \n",
    "the dimensions of the array. This is a tuple of integers indicating the size of\n",
    "the array in each dimension. For a matrix with n rows and m columns,\n",
    "shape will be (n,m). The length of the shape tuple is therefore the rank,\n",
    "or number of dimensions, ndim.\n",
    "- ndarray.size  \n",
    "the total number of elements of the array. This is equal to the product of\n",
    "the elements of shape.\n",
    "-  ndarray.dtype  \n",
    "an object describing the type of the elements in the array. One can create\n",
    "or specify dtype’s using standard Python types. Additionally NumPy\n",
    "provides types of its own. numpy.int32, numpy.int16, and numpy.float64\n",
    "are some examples.\n",
    "- ndarray.itemsize  \n",
    "the size in bytes of each element of the array. For example, an array of\n",
    "elements of type float64 has itemsize 8 (=64/8), while one of type\n",
    "complex32 has itemsize 4 (=32/8). It is equivalent to\n",
    "ndarray.dtype.itemsize.\n",
    "- ndarray.data  \n",
    "the buffer containing the actual elements of the array. Normally, we won’t\n",
    "need to use this attribute because we will access the elements in an array\n",
    "using indexing facilities."
   ]
  },
  {
   "cell_type": "code",
   "execution_count": 1,
   "metadata": {},
   "outputs": [
    {
     "name": "stdout",
     "output_type": "stream",
     "text": [
      "1\n",
      "(4,)\n",
      "4\n",
      "float64\n",
      "8\n",
      "<memory at 0x00000238070D8AC0>\n"
     ]
    }
   ],
   "source": [
    "import numpy as np\n",
    "\n",
    "values = np.array([3.4, 44, 42, 998.888])\n",
    "\n",
    "print(values.ndim)\n",
    "print(values.shape)\n",
    "print(values.size)\n",
    "print(values.dtype)\n",
    "print(values.itemsize)\n",
    "print(values.data)"
   ]
  },
  {
   "cell_type": "code",
   "execution_count": 2,
   "metadata": {},
   "outputs": [
    {
     "name": "stdout",
     "output_type": "stream",
     "text": [
      "[[ 0  1  2  3  4]\n",
      " [ 5  6  7  8  9]\n",
      " [10 11 12 13 14]]\n",
      "(3, 5)\n",
      "2\n",
      "int32\n",
      "4\n",
      "15\n",
      "<class 'numpy.ndarray'>\n",
      "[6 7 8]\n",
      "<class 'numpy.ndarray'>\n"
     ]
    }
   ],
   "source": [
    "a = np.arange(15).reshape(3, 5)\n",
    "print(a)\n",
    "\n",
    "print(a.shape)\n",
    "\n",
    "print(a.ndim)\n",
    "\n",
    "print(a.dtype.name)\n",
    "\n",
    "print(a.itemsize)\n",
    "\n",
    "print(a.size)\n",
    "\n",
    "print(type(a))\n",
    "\n",
    "b = np.array([6, 7, 8])\n",
    "print(b)\n",
    "\n",
    "print(type(b))"
   ]
  }
 ],
 "metadata": {
  "interpreter": {
   "hash": "00cbf5791b9eca71d779a224797699885667845f7b0adeb3ee57eb7aff0a928f"
  },
  "kernelspec": {
   "display_name": "Python 3.8.12 ('base')",
   "language": "python",
   "name": "python3"
  },
  "language_info": {
   "codemirror_mode": {
    "name": "ipython",
    "version": 3
   },
   "file_extension": ".py",
   "mimetype": "text/x-python",
   "name": "python",
   "nbconvert_exporter": "python",
   "pygments_lexer": "ipython3",
   "version": "3.8.12"
  },
  "orig_nbformat": 4
 },
 "nbformat": 4,
 "nbformat_minor": 2
}
